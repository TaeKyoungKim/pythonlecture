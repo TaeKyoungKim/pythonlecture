{
 "cells": [
  {
   "cell_type": "code",
   "execution_count": 19,
   "metadata": {},
   "outputs": [
    {
     "name": "stdout",
     "output_type": "stream",
     "text": [
      " \"나는\" 김태경 입니다 \n"
     ]
    }
   ],
   "source": [
    "a = ' \"나는\" 김태경 입니다 '\n",
    "print(a)"
   ]
  },
  {
   "cell_type": "markdown",
   "metadata": {},
   "source": [
    "## 첫번째 코드\n"
   ]
  },
  {
   "cell_type": "code",
   "execution_count": 20,
   "metadata": {},
   "outputs": [
    {
     "name": "stdout",
     "output_type": "stream",
     "text": [
      "과일사과\n"
     ]
    }
   ],
   "source": [
    "a = \"과일\" + \"사과\"\n",
    "print(a)"
   ]
  },
  {
   "cell_type": "code",
   "execution_count": 21,
   "metadata": {},
   "outputs": [
    {
     "name": "stdout",
     "output_type": "stream",
     "text": [
      "과일과일과일과일\n"
     ]
    }
   ],
   "source": [
    "a = \"과일\"*4\n",
    "print(a)"
   ]
  },
  {
   "cell_type": "code",
   "execution_count": 33,
   "metadata": {},
   "outputs": [
    {
     "name": "stdout",
     "output_type": "stream",
     "text": [
      "hi\\ddddddd \\ie\\\\d\n"
     ]
    }
   ],
   "source": [
    "b = \"hi\\\\ddddddd \\\\ie\\\\\\d\"\n",
    "print(b)"
   ]
  },
  {
   "cell_type": "code",
   "execution_count": 35,
   "metadata": {},
   "outputs": [
    {
     "name": "stdout",
     "output_type": "stream",
     "text": [
      "adg\n"
     ]
    }
   ],
   "source": [
    "c = \"abcdefghi\"\n",
    "print(c[::3])"
   ]
  },
  {
   "cell_type": "code",
   "execution_count": 45,
   "metadata": {},
   "outputs": [
    {
     "name": "stdout",
     "output_type": "stream",
     "text": [
      "(10, 12)\n"
     ]
    }
   ],
   "source": [
    "d = (1,2,3,4,5,6,7,8,9,10,11,12)\n",
    "print(d[9:12:2])"
   ]
  },
  {
   "cell_type": "code",
   "execution_count": 70,
   "metadata": {},
   "outputs": [
    {
     "name": "stdout",
     "output_type": "stream",
     "text": [
      "I am     JangJu vs TaeKyoung 3.232000\n"
     ]
    }
   ],
   "source": [
    "name1 = \"JangJu\"\n",
    "name2 = \"TaeKyoung\"\n",
    "name3 = 3.232\n",
    "print(\"I am %10s vs %s %f\" % (name1, name2,name3))"
   ]
  },
  {
   "cell_type": "code",
   "execution_count": 74,
   "metadata": {},
   "outputs": [
    {
     "name": "stdout",
     "output_type": "stream",
     "text": [
      "23.423423423423454\n"
     ]
    }
   ],
   "source": [
    "print(23.423423423423454305804850450348538045345345345345345423333333333333333333333333333)"
   ]
  },
  {
   "cell_type": "code",
   "execution_count": 77,
   "metadata": {},
   "outputs": [
    {
     "name": "stdout",
     "output_type": "stream",
     "text": [
      "I like apple, banana !!\n"
     ]
    }
   ],
   "source": [
    "print(\"I like {0}, {1} !!\".format(\"apple\",\"banana\"))"
   ]
  },
  {
   "cell_type": "code",
   "execution_count": 78,
   "metadata": {},
   "outputs": [
    {
     "name": "stdout",
     "output_type": "stream",
     "text": [
      "I like banana, apple !!\n"
     ]
    }
   ],
   "source": [
    "print(\"I like {1}, {0} !!\".format(\"apple\",\"banana\"))"
   ]
  },
  {
   "cell_type": "code",
   "execution_count": 80,
   "metadata": {},
   "outputs": [
    {
     "name": "stdout",
     "output_type": "stream",
     "text": [
      "I like banana, 수박, apple !!\n"
     ]
    }
   ],
   "source": [
    "print(\"I like {1}, {2}, {0} !!\".format(\"apple\",\"banana\",\"수박\"))"
   ]
  },
  {
   "cell_type": "code",
   "execution_count": 93,
   "metadata": {},
   "outputs": [
    {
     "name": "stdout",
     "output_type": "stream",
     "text": [
      "수학점수: 95 \n",
      "영어점수: $$$$$$$$$6.542342342342342e+37$$$$$$$$$$ \n",
      "과학점수: 40\n"
     ]
    }
   ],
   "source": [
    "math = 95\n",
    "english = 65423423423423423423423423423423423423.4348503985850430\n",
    "science = 40\n",
    "print(f\"수학점수: {math} \\n영어점수: {english:$^40} \\n과학점수: {science}\")"
   ]
  },
  {
   "cell_type": "code",
   "execution_count": 100,
   "metadata": {},
   "outputs": [
    {
     "data": {
      "text/plain": [
       "6"
      ]
     },
     "execution_count": 100,
     "metadata": {},
     "output_type": "execute_result"
    }
   ],
   "source": [
    "word =\"Apple banana\"\n",
    "\n",
    "word.index(\"banana\") #문자길이\n"
   ]
  },
  {
   "cell_type": "code",
   "execution_count": 103,
   "metadata": {},
   "outputs": [
    {
     "name": "stdout",
     "output_type": "stream",
     "text": [
      "APPLE BANANA\n"
     ]
    },
    {
     "data": {
      "text/plain": [
       "'apple banana'"
      ]
     },
     "execution_count": 103,
     "metadata": {},
     "output_type": "execute_result"
    }
   ],
   "source": [
    "word =\"Apple banana\"\n",
    "\n",
    "print(word.upper()) #문자길이\n",
    "word.upper().lower()"
   ]
  },
  {
   "cell_type": "code",
   "execution_count": 105,
   "metadata": {},
   "outputs": [
    {
     "name": "stdout",
     "output_type": "stream",
     "text": [
      "Apple 수박\n"
     ]
    }
   ],
   "source": [
    "word =\"Apple banana\"\n",
    "print(word.replace(\"banana\",\"수박\"))\n"
   ]
  },
  {
   "cell_type": "code",
   "execution_count": null,
   "metadata": {},
   "outputs": [],
   "source": []
  }
 ],
 "metadata": {
  "kernelspec": {
   "display_name": "Python 3",
   "language": "python",
   "name": "python3"
  },
  "language_info": {
   "codemirror_mode": {
    "name": "ipython",
    "version": 3
   },
   "file_extension": ".py",
   "mimetype": "text/x-python",
   "name": "python",
   "nbconvert_exporter": "python",
   "pygments_lexer": "ipython3",
   "version": "3.7.3"
  }
 },
 "nbformat": 4,
 "nbformat_minor": 2
}
